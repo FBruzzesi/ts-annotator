{
 "cells": [
  {
   "cell_type": "code",
   "execution_count": null,
   "id": "80d92f2f-f10c-42fa-a11a-cd2651219088",
   "metadata": {},
   "outputs": [],
   "source": [
    "import pandas as pd\n",
    "import numpy as np\n",
    "from pandas.api.types import is_numeric_dtype as is_numeric\n",
    "from pandas.api.types import is_datetime64_any_dtype as is_datetime"
   ]
  },
  {
   "cell_type": "code",
   "execution_count": null,
   "id": "14207db8-89a8-448c-aa65-2618617dba1d",
   "metadata": {},
   "outputs": [],
   "source": [
    "size = 32\n",
    "\n",
    "df = pd.DataFrame({\n",
    "    'x': np.arange(size),\n",
    "    'y': np.random.randn(size),\n",
    "    'z': np.random.randint(0, 10, size),\n",
    "    'dt': pd.date_range('2021-01-01', '2021-02-02', periods=size),\n",
    "    's': list('abcdefgh')*4, \n",
    "})\n",
    "df.to_csv(\"test-data.csv\", index=False)"
   ]
  },
  {
   "cell_type": "code",
   "execution_count": null,
   "id": "0cf9adea-8723-4bb0-ac8b-bbde1c540209",
   "metadata": {},
   "outputs": [],
   "source": [
    "coords = np.array([\n",
    "    ['2021-01-04_11:28:41.7391', '0.4320105703440861'],\n",
    "    ['2021-01-03_17:59:15.2795', '0.31664139353333337'],\n",
    "    ['2021-01-03_04:28:19.3789', '0.07541493292903229'],\n",
    "    ['2021-01-03_07:39:07.8261', '0.01248629103225808'],\n",
    "    ['2021-01-04_03:31:40.6211', '-0.03995424388172042'],\n",
    "    ['2021-01-04_17:50:18.6335', '-0.01897802991612902'],\n",
    "    ['2021-01-05_04:10:26.087' ,'0.09639114689462368'],\n",
    "    ['2021-01-05_05:45:50.3106', '0.2012722167225807'],\n",
    "    ['2021-01-04_22:36:31.3043', '0.3271295005161291'],\n",
    "    ['2021-01-04_15:27:12.2981', '0.3795700354301076'],\n",
    "    ['2021-01-03_15:36:08.9441', '0.3795700354301076']])\n",
    "\n",
    "path = \"M2021-01-02_05:24:58.1366,1.134713738191398L2021-01-01_09:32:25.3416,1.061296989311828L2021-01-01_06:21:36.8944,0.9773921334494625L2021-01-01_11:07:49.5652,0.8829991706043012L2021-01-02_04:37:16.0248,0.7990943147419356L2021-01-02_16:32:47.7019,0.8200705287075271L2021-01-02_18:08:11.9255,0.924951598535484L2021-01-02_13:21:59.2547,1.0822732032774196L2021-01-02_07:00:22.3602,1.134713738191398L2021-01-01_21:27:57.0186,1.134713738191398Z\""
   ]
  },
  {
   "cell_type": "code",
   "execution_count": null,
   "id": "a92cb190-5106-4649-b7f3-ce01d981ceb5",
   "metadata": {},
   "outputs": [],
   "source": [
    "def dt_series_to_unix(s: pd.Series):\n",
    "    \"\"\"Converts datetime series to unix int\"\"\"\n",
    "\n",
    "    try:\n",
    "        s = pd.to_datetime(s)\n",
    "        print(s)\n",
    "        return (s - pd.Timestamp(\"1970-01-01\")) // pd.Timedelta(\"1s\")\n",
    "    \n",
    "    except:\n",
    "        raise TypeError \n",
    "\n",
    "def path_to_coords(svg_path: str, xtype: str=None) -> np.array:\n",
    "    \"\"\"From SVG path to numpy array of coordinates, each row being a (row, col) point\"\"\"\n",
    "    indices_str = [\n",
    "        pt.replace(\"M\", \"\").replace(\"Z\", \"\").replace(\"_\", \" \").split(\",\") for pt in svg_path.split(\"L\")\n",
    "    ]\n",
    "    if xtype == \"datetime\":\n",
    "        indices_str = [[dt_series_to_unix(pd.to_datetime(e[0])), float(e[1])] for e in indices_str]\n",
    "\n",
    "    return indices_str# np.array(indices_str, dtype=float)"
   ]
  },
  {
   "cell_type": "code",
   "execution_count": null,
   "id": "ed212766-67fc-4b41-bd81-783eee1b345c",
   "metadata": {},
   "outputs": [],
   "source": [
    "path_to_coords(path, xtype=\"datetime\")"
   ]
  },
  {
   "cell_type": "code",
   "execution_count": null,
   "id": "4e3e7a52-a397-497d-9fb9-e37263a7f639",
   "metadata": {},
   "outputs": [],
   "source": [
    "def check_col_type(s: pd.Series) -> str:\n",
    "    \"\"\"Checks pd.Series dtype\"\"\"\n",
    "\n",
    "    if is_numeric(s):\n",
    "        return \"numeric\"\n",
    "    else:\n",
    "        try:\n",
    "            pd.to_datetime(s)\n",
    "            return \"datetime\"\n",
    "\n",
    "        except Exception as e:\n",
    "            return \"categorical\""
   ]
  }
 ],
 "metadata": {
  "kernelspec": {
   "display_name": "Python 3 (ipykernel)",
   "language": "python",
   "name": "python3"
  },
  "language_info": {
   "codemirror_mode": {
    "name": "ipython",
    "version": 3
   },
   "file_extension": ".py",
   "mimetype": "text/x-python",
   "name": "python",
   "nbconvert_exporter": "python",
   "pygments_lexer": "ipython3",
   "version": "3.8.11"
  }
 },
 "nbformat": 4,
 "nbformat_minor": 5
}
